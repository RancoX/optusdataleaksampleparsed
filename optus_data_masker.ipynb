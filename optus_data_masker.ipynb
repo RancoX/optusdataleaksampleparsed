{
 "cells": [
  {
   "cell_type": "code",
   "execution_count": 7,
   "metadata": {},
   "outputs": [],
   "source": [
    "import pandas as pd\n",
    "from pathlib import Path\n",
    "import re"
   ]
  },
  {
   "cell_type": "code",
   "execution_count": 4,
   "metadata": {},
   "outputs": [
    {
     "name": "stdout",
     "output_type": "stream",
     "text": [
      "USER_FILE=WindowsPath('F:/Python/Tutorial/Parsing/JSON/Optus_data_leak/To_github/optus_2022_users_clean.xlsx') ADDRESS_FILE=WindowsPath('F:/Python/Tutorial/Parsing/JSON/Optus_data_leak/To_github/optus_2022_addresses_clean.xlsx')\n"
     ]
    }
   ],
   "source": [
    "WORKING_DIR=Path(r'F:\\Python\\Tutorial\\Parsing\\JSON\\Optus_data_leak\\To_github')\n",
    "USER_FILE=WORKING_DIR / 'optus_2022_users_clean.xlsx'\n",
    "ADDRESS_FILE=WORKING_DIR / 'optus_2022_addresses_clean.xlsx'\n",
    "print(f\"{USER_FILE=} {ADDRESS_FILE=}\")"
   ]
  },
  {
   "cell_type": "code",
   "execution_count": null,
   "metadata": {},
   "outputs": [],
   "source": [
    "# format user\n",
    "df=pd.read_excel(USER_FILE, converters={'phone':str,'ID No.':str})\n",
    "print(df.head(10))"
   ]
  },
  {
   "cell_type": "code",
   "execution_count": 117,
   "metadata": {},
   "outputs": [],
   "source": [
    "def email_masker(email):\n",
    "    pattern=r'(\\w{1}).*(\\w{1})@(.+)'\n",
    "    match=re.sub(pattern,r'\\1***\\2@\\3',email)\n",
    "    return match\n",
    "\n",
    "def hider(text, keep_head=3, keep_tail=-2):\n",
    "    text=text.strip()\n",
    "    if text == 'None':\n",
    "        return 'None'\n",
    "    if 2 < len(text) <= keep_head + abs(keep_tail):\n",
    "        keep_head, keep_tail = (1,-1)\n",
    "    elif len(text)<=2:\n",
    "        keep_head, keep_tail = (1,0)\n",
    "        return text[0]+'*'\n",
    "    return f\"{text[:keep_head]}{'*'*(len(text)-keep_head-abs(keep_tail))}{text[keep_tail:]}\"\n",
    "        "
   ]
  },
  {
   "cell_type": "code",
   "execution_count": 93,
   "metadata": {},
   "outputs": [
    {
     "name": "stdout",
     "output_type": "stream",
     "text": [
      "       fname    lname          gender                email       phone  \\\n",
      "0  ABDIRIZAK   HAS*AN               U      A***1@GMAIL.COM  040*****73   \n",
      "1      ABDUL   FAR*AT               U    A***T@OUTLOOK.COM  041*****75   \n",
      "2      AHMAD  HUS**IN               U      A***4@GMAIL.COM  042*****60   \n",
      "3     AMANDA  CAT**RD               U   N***2@OPTUS.COM.AU  040*****27   \n",
      "4      Allan   Heb*rt  Please Specify      a***b@gmail.com  047*****04   \n",
      "5     Amanda  Law**ss               F      A***0@GMAIL.COM  044*****92   \n",
      "6       BARO     G**E               U   N***8@OPTUS.COM.AU  042*****34   \n",
      "7        BEN    W***S               U      B***R@GMAIL.COM  073*****92   \n",
      "8     BRENDA  KOS**IH               U   N***6@OPTUS.COM.AU  040*****90   \n",
      "9  BRITTANNY    W***E               U  b***e@lendlease.com  042*****94   \n",
      "\n",
      "           ID_type    ID No.  \n",
      "0  Driving Licence  603***02  \n",
      "1  Driving Licence    587*YF  \n",
      "2  Driving Licence  290***90  \n",
      "3   No_ID_Supplied      N**e  \n",
      "4  Driving Licence  336***69  \n",
      "5  Driving Licence    BI4*64  \n",
      "6   No_ID_Supplied      N**e  \n",
      "7   No_ID_Supplied      N**e  \n",
      "8   No_ID_Supplied      N**e  \n",
      "9  Driving Licence  387***77  \n"
     ]
    }
   ],
   "source": [
    "df['lname']=df['lname'].apply(hider)\n",
    "df['email']=df['email'].apply(email_masker)\n",
    "df['phone']=df['phone'].apply(hider)\n",
    "df['ID No.']=df['ID No.'].apply(hider)\n",
    "print(df.head(10))"
   ]
  },
  {
   "cell_type": "code",
   "execution_count": 94,
   "metadata": {},
   "outputs": [],
   "source": [
    "df.to_excel(WORKING_DIR / 'Optus_users_leak_masked.xlsx',index=False)"
   ]
  },
  {
   "cell_type": "code",
   "execution_count": null,
   "metadata": {},
   "outputs": [],
   "source": [
    "# format addresses\n",
    "df=pd.read_excel(ADDRESS_FILE, converters={'phone':str,'doc_no':str})\n",
    "print(df.head(10))"
   ]
  },
  {
   "cell_type": "code",
   "execution_count": 126,
   "metadata": {},
   "outputs": [],
   "source": [
    "def name_hider(text):\n",
    "    pieces=text.split()\n",
    "    modified_lname=pieces[-1][0] + '*' * (len(pieces[-1])-1)\n",
    "    new_name=pieces[:-1]\n",
    "    new_name.append(modified_lname)\n",
    "    return ' '.join(new_name)\n",
    "\n",
    "def address_hider(text):\n",
    "    pattern=re.compile(r'(.+\\s)([A-Z]{2,3})\\s(\\d{4})(\\s?\\w*)')\n",
    "    return re.sub(pattern,r'***** \\2 \\3, \\4',text)"
   ]
  },
  {
   "cell_type": "code",
   "execution_count": 127,
   "metadata": {},
   "outputs": [
    {
     "name": "stdout",
     "output_type": "stream",
     "text": [
      "  salute             name       bday                  email  \\\n",
      "0   Miss   AMANDA W****** 1985-05-25     N***2@OPTUS.COM.AU   \n",
      "1   Miss   AMANDA S****** 1968-11-07      M***S@HOTMAIL.COM   \n",
      "2   Miss      AMY P****** 1985-11-19     N***2@OPTUS.COM.AU   \n",
      "3    Mrs   ANDREA F H**** 1968-02-25        J***L@GMAIL.COM   \n",
      "4     Mr    ANDREW K***** 1984-07-24        a***4@gmail.com   \n",
      "5   Miss  ASHLEIGH M***** 1995-09-19      a***5@hotmail.com   \n",
      "6     Mr         Atul R** 2000-03-04        a***2@gmail.com   \n",
      "7    Mrs  BONITA J******* 1939-05-14  B***1@OPTUSNET.COM.AU   \n",
      "8     Mr    BRIAN F****** 1974-06-03     N***8@OPTUS.COM.AU   \n",
      "9   Miss  Behnoush A***** 1990-12-05        b***0@gmail.com   \n",
      "\n",
      "                           addr         doc_type     doc_no       phone  \n",
      "0  ***** QLD 4370, ,  Australia   No_ID_Supplied       None  041*****03  \n",
      "1  ***** NSW 2759, ,  Australia  Driving Licence     246*DL  041*****43  \n",
      "2  ***** VIC 3677, ,  Australia   No_ID_Supplied       None  041*****99  \n",
      "3  ***** VIC 3115, ,  Australia  Driving Licence  041****74  041*****81  \n",
      "4              ***** VIC 3212,   Driving Licence  059****92  040*****06  \n",
      "5   ***** SA 5067, ,  Australia  Driving Licence     de2*73  041*****11  \n",
      "6  ***** VIC 3029, ,  Australia   No_ID_Supplied       None  043*****10  \n",
      "7  ***** NSW 2452, ,  Australia   No_ID_Supplied       None  026*****41  \n",
      "8  ***** QLD 4157, ,  Australia   No_ID_Supplied       None  047*****33  \n",
      "9  ***** VIC 3075, ,  Australia  Driving Licence   218***09  040*****16  \n"
     ]
    }
   ],
   "source": [
    "dff=df.copy()\n",
    "dff['name']=dff['name'].apply(name_hider)\n",
    "dff['email']=dff['email'].apply(email_masker)\n",
    "dff['doc_no']=dff['doc_no'].apply(hider)\n",
    "dff['phone']=dff['phone'].apply(hider)\n",
    "dff['addr']=dff['addr'].apply(address_hider)\n",
    "print(dff.head(10))"
   ]
  },
  {
   "cell_type": "code",
   "execution_count": 128,
   "metadata": {},
   "outputs": [],
   "source": [
    "dff.to_excel(WORKING_DIR / 'Optus_addresses_leak_masked.xlsx', index=False)"
   ]
  }
 ],
 "metadata": {
  "kernelspec": {
   "display_name": "Python 3.10.7 64-bit",
   "language": "python",
   "name": "python3"
  },
  "language_info": {
   "codemirror_mode": {
    "name": "ipython",
    "version": 3
   },
   "file_extension": ".py",
   "mimetype": "text/x-python",
   "name": "python",
   "nbconvert_exporter": "python",
   "pygments_lexer": "ipython3",
   "version": "3.10.7"
  },
  "orig_nbformat": 4,
  "vscode": {
   "interpreter": {
    "hash": "e450050b432e843bda3c41bf3272c133bfc370a7003f3e377e27f87a49ce1127"
   }
  }
 },
 "nbformat": 4,
 "nbformat_minor": 2
}
